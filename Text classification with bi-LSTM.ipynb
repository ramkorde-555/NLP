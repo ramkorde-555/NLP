{
 "cells": [
  {
   "cell_type": "markdown",
   "id": "9b819702",
   "metadata": {},
   "source": [
    "### Training the model"
   ]
  },
  {
   "cell_type": "code",
   "execution_count": 1,
   "id": "83c69b51",
   "metadata": {},
   "outputs": [],
   "source": [
    "import numpy as np\n",
    "from keras.utils import pad_sequences\n",
    "from keras.models import Sequential\n",
    "from keras.layers import Dense, Dropout, Embedding, LSTM, Bidirectional\n",
    "from keras.datasets import imdb"
   ]
  },
  {
   "cell_type": "code",
   "execution_count": 3,
   "id": "96d70f05",
   "metadata": {},
   "outputs": [],
   "source": [
    "n_unique_words = 10000 # cut texts after this number of words\n",
    "maxlen = 200\n",
    "batch_size = 128"
   ]
  },
  {
   "cell_type": "code",
   "execution_count": 4,
   "id": "a9d2de7f",
   "metadata": {},
   "outputs": [],
   "source": [
    "(x_train, y_train),(x_test, y_test) = imdb.load_data(num_words=n_unique_words)"
   ]
  },
  {
   "cell_type": "code",
   "execution_count": 5,
   "id": "18152142",
   "metadata": {},
   "outputs": [],
   "source": [
    "x_train = pad_sequences(x_train, maxlen=maxlen)\n",
    "x_test = pad_sequences(x_test, maxlen=maxlen)\n",
    "y_train = np.array(y_train)\n",
    "y_test = np.array(y_test)"
   ]
  },
  {
   "cell_type": "code",
   "execution_count": 6,
   "id": "ac90bfb3",
   "metadata": {},
   "outputs": [],
   "source": [
    "#The model\n",
    "model = Sequential()\n",
    "model.add(Embedding(n_unique_words, 128, input_length=maxlen))\n",
    "model.add(Bidirectional(LSTM(64)))\n",
    "model.add(Dropout(0.5))\n",
    "model.add(Dense(1, activation='sigmoid'))\n",
    "model.compile(loss='binary_crossentropy', optimizer='adam', metrics=['accuracy']) "
   ]
  },
  {
   "cell_type": "code",
   "execution_count": 7,
   "id": "cc4551b9",
   "metadata": {},
   "outputs": [
    {
     "name": "stdout",
     "output_type": "stream",
     "text": [
      "Epoch 1/12\n",
      "196/196 [==============================] - 113s 563ms/step - loss: 0.4378 - accuracy: 0.7879 - val_loss: 0.3357 - val_accuracy: 0.8636\n",
      "Epoch 2/12\n",
      "196/196 [==============================] - 114s 583ms/step - loss: 0.2381 - accuracy: 0.9088 - val_loss: 0.3006 - val_accuracy: 0.8704\n",
      "Epoch 3/12\n",
      "196/196 [==============================] - 127s 651ms/step - loss: 0.1818 - accuracy: 0.9357 - val_loss: 0.3342 - val_accuracy: 0.8641\n",
      "Epoch 4/12\n",
      "196/196 [==============================] - 128s 653ms/step - loss: 0.1366 - accuracy: 0.9505 - val_loss: 0.4058 - val_accuracy: 0.8622\n",
      "Epoch 5/12\n",
      "196/196 [==============================] - 126s 646ms/step - loss: 0.1090 - accuracy: 0.9627 - val_loss: 0.4390 - val_accuracy: 0.8591\n",
      "Epoch 6/12\n",
      "196/196 [==============================] - 128s 653ms/step - loss: 0.0919 - accuracy: 0.9686 - val_loss: 0.4669 - val_accuracy: 0.8591\n",
      "Epoch 7/12\n",
      "196/196 [==============================] - 129s 661ms/step - loss: 0.1085 - accuracy: 0.9626 - val_loss: 0.4934 - val_accuracy: 0.8552\n",
      "Epoch 8/12\n",
      "196/196 [==============================] - 132s 676ms/step - loss: 0.0873 - accuracy: 0.9703 - val_loss: 0.5226 - val_accuracy: 0.8563\n",
      "Epoch 9/12\n",
      "196/196 [==============================] - 131s 670ms/step - loss: 0.0515 - accuracy: 0.9838 - val_loss: 0.5305 - val_accuracy: 0.8534\n",
      "Epoch 10/12\n",
      "196/196 [==============================] - 132s 676ms/step - loss: 0.0495 - accuracy: 0.9848 - val_loss: 0.7181 - val_accuracy: 0.8554\n",
      "Epoch 11/12\n",
      "196/196 [==============================] - 130s 664ms/step - loss: 0.0309 - accuracy: 0.9915 - val_loss: 0.7377 - val_accuracy: 0.8542\n",
      "Epoch 12/12\n",
      "196/196 [==============================] - 130s 666ms/step - loss: 0.0250 - accuracy: 0.9934 - val_loss: 0.7215 - val_accuracy: 0.8562\n"
     ]
    }
   ],
   "source": [
    "history=model.fit(x_train, y_train,\n",
    "           batch_size=batch_size,\n",
    "           epochs=12,\n",
    "           validation_data=[x_test, y_test])"
   ]
  },
  {
   "cell_type": "code",
   "execution_count": 8,
   "id": "92d546ec",
   "metadata": {},
   "outputs": [
    {
     "name": "stderr",
     "output_type": "stream",
     "text": [
      "WARNING:absl:Found untraced functions such as _update_step_xla, lstm_cell_1_layer_call_fn, lstm_cell_1_layer_call_and_return_conditional_losses, lstm_cell_2_layer_call_fn, lstm_cell_2_layer_call_and_return_conditional_losses while saving (showing 5 of 5). These functions will not be directly callable after loading.\n"
     ]
    },
    {
     "name": "stdout",
     "output_type": "stream",
     "text": [
      "INFO:tensorflow:Assets written to: biLSTM\\assets\n"
     ]
    },
    {
     "name": "stderr",
     "output_type": "stream",
     "text": [
      "INFO:tensorflow:Assets written to: biLSTM\\assets\n"
     ]
    }
   ],
   "source": [
    "model.save('biLSTM')"
   ]
  },
  {
   "cell_type": "code",
   "execution_count": 9,
   "id": "11fecb59",
   "metadata": {},
   "outputs": [
    {
     "name": "stdout",
     "output_type": "stream",
     "text": [
      "[0.4378429055213928, 0.23813723027706146, 0.1818075180053711, 0.13663919270038605, 0.10897886008024216, 0.09194107353687286, 0.10851233452558517, 0.08726976811885834, 0.051511865109205246, 0.04949335381388664, 0.03094913810491562, 0.02496068924665451]\n",
      "[0.787880003452301, 0.908840000629425, 0.9357200264930725, 0.9505199790000916, 0.9627199769020081, 0.968559980392456, 0.9625599980354309, 0.9703199863433838, 0.9838399887084961, 0.9848399758338928, 0.9914799928665161, 0.9933599829673767]\n"
     ]
    }
   ],
   "source": [
    "print(history.history['loss'])\n",
    "print(history.history['accuracy'])"
   ]
  },
  {
   "cell_type": "markdown",
   "id": "262d57f9",
   "metadata": {},
   "source": [
    "### Plotting model performance"
   ]
  },
  {
   "cell_type": "code",
   "execution_count": 10,
   "id": "836448da",
   "metadata": {},
   "outputs": [
    {
     "data": {
      "image/png": "[encoded data removed]",
      "text/plain": [
       "<Figure size 640x480 with 1 Axes>"
      ]
     },
     "metadata": {},
     "output_type": "display_data"
    }
   ],
   "source": [
    "from matplotlib import pyplot\n",
    "pyplot.plot(history.history['loss'])\n",
    "pyplot.plot(history.history['accuracy'])\n",
    "pyplot.title('model loss vs accuracy')\n",
    "pyplot.xlabel('epoch')\n",
    "pyplot.legend(['loss', 'accuracy'], loc='upper right')\n",
    "pyplot.show()"
   ]
  },
  {
   "cell_type": "code",
   "execution_count": null,
   "id": "93954ea2",
   "metadata": {},
   "outputs": [],
   "source": []
  }
 ],
 "metadata": {
  "kernelspec": {
   "display_name": "nlpEnv",
   "language": "python",
   "name": "nlpenv"
  },
  "language_info": {
   "codemirror_mode": {
    "name": "ipython",
    "version": 3
   },
   "file_extension": ".py",
   "mimetype": "text/x-python",
   "name": "python",
   "nbconvert_exporter": "python",
   "pygments_lexer": "ipython3",
   "version": "3.9.12"
  }
 },
 "nbformat": 4,
 "nbformat_minor": 5
}
